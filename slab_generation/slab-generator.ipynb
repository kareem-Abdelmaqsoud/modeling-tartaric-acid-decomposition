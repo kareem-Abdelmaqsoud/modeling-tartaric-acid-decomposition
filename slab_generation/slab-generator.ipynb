{
 "cells": [
  {
   "cell_type": "code",
   "execution_count": null,
   "id": "05865690",
   "metadata": {},
   "outputs": [],
   "source": [
    "from pymatgen.core.structure import Structure\n",
    "from pymatgen.core.surface import SlabGenerator\n",
    "import numpy as np\n",
    "from pymatgen.analysis.adsorption import plot_slab\n",
    "from pymatgen.io.ase import AseAtomsAdaptor as aaa\n",
    "from collections import defaultdict\n",
    "import pandas as pd\n",
    "from x3dase.visualize import view_x3d_n\n",
    "import matplotlib.pyplot as plt\n",
    "import math\n",
    "import pickle"
   ]
  },
  {
   "cell_type": "code",
   "execution_count": null,
   "id": "4ef8da92",
   "metadata": {},
   "outputs": [],
   "source": [
    "from pymatgen.core.structure import Structure\n",
    "cu_obj = Structure.from_file(\"Cu.cif\")"
   ]
  },
  {
   "cell_type": "markdown",
   "id": "4f391331",
   "metadata": {},
   "source": [
    "### The code below generates the slab structure of a given Miller index of Cu surface orietation and saves it to a pickle file to be used later to calculate the coordination numbers to be used in the generalized coordination model. "
   ]
  },
  {
   "cell_type": "code",
   "execution_count": null,
   "id": "18a23496",
   "metadata": {},
   "outputs": [],
   "source": [
    "# code for generating the slabs\n",
    "slabgen = SlabGenerator(cu_obj,\n",
    "                    miller_index=np.array([11, 3, 1]),\n",
    "                    min_slab_size=10,\n",
    "                    min_vacuum_size=10,\n",
    "                    center_slab=True)\n",
    "slabs = slabgen.get_slabs()\n",
    "with open('11_3_1.pickle', 'wb') as handle:\n",
    "    pickle.dump(slabs[0], handle, protocol=pickle.HIGHEST_PROTOCOL)"
   ]
  }
 ],
 "metadata": {
  "kernelspec": {
   "display_name": "Python 3 (ipykernel)",
   "language": "python",
   "name": "python3"
  },
  "language_info": {
   "codemirror_mode": {
    "name": "ipython",
    "version": 3
   },
   "file_extension": ".py",
   "mimetype": "text/x-python",
   "name": "python",
   "nbconvert_exporter": "python",
   "pygments_lexer": "ipython3",
   "version": "3.9.15"
  }
 },
 "nbformat": 4,
 "nbformat_minor": 5
}
